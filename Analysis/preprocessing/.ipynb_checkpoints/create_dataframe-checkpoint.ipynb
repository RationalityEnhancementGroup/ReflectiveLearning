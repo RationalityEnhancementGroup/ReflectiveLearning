{
 "cells": [
  {
   "cell_type": "code",
   "execution_count": 1,
   "metadata": {},
   "outputs": [],
   "source": [
    "import read_csv_to_dataframe as ecf\n",
    "from importlib import reload\n",
    "import json\n",
    "from datetime import datetime\n",
    "import pandas as pd\n",
    "import numpy as np\n",
    "import matplotlib.pyplot as plt\n",
    "from scipy import stats\n",
    "import statistics_util as st\n",
    "import mcl_toolbox_root.bridge_script as bs\n",
    "\n",
    "pd.set_option('display.max_rows', 181)\n",
    "pd.set_option('display.max_columns', 180)\n",
    "pd.set_option('display.max_colwidth', 80)"
   ]
  },
  {
   "cell_type": "markdown",
   "metadata": {},
   "source": [
    "# IMPORT"
   ]
  },
  {
   "cell_type": "code",
   "execution_count": 2,
   "metadata": {},
   "outputs": [],
   "source": [
    "# import data as csv\n",
    "exp_version = '2B1'\n",
    "dataclip = pd.read_csv('../data/Exp'+exp_version+'/dataclip.csv')"
   ]
  },
  {
   "cell_type": "code",
   "execution_count": 3,
   "metadata": {
    "scrolled": false
   },
   "outputs": [],
   "source": [
    "reload(ecf)a\n",
    "dataframe = ecf.makeDataframe(dataclip, ecf.getParticipantInfoStudie2B)\n",
    "dataframe.insert(0, \"pid\", dataframe.index)"
   ]
  },
  {
   "cell_type": "code",
   "execution_count": null,
   "metadata": {
    "scrolled": false
   },
   "outputs": [],
   "source": [
    "#reload(ecf)\n",
    "#ecf.getMapping(dataclip, 206)\n",
    "#ecf.getParticipantInfoStudie2B(dataclip, 206)\n",
    "#dataframe[dataframe.WorkerId == 'A320HHB5EEBOA0']\n",
    "#dataframe"
   ]
  },
  {
   "cell_type": "markdown",
   "metadata": {},
   "source": [
    "# Compute Strategies"
   ]
  },
  {
   "cell_type": "code",
   "execution_count": null,
   "metadata": {},
   "outputs": [],
   "source": [
    "reload(bs)\n",
    "dataframe = bs.compute_strategies(dataframe, 'strategies', 21, testing=False)"
   ]
  },
  {
   "cell_type": "code",
   "execution_count": 4,
   "metadata": {},
   "outputs": [],
   "source": [
    "dt = pd.read_csv('../data/Exp'+exp_version+'/dataframe_copy.csv')\n",
    "dataframe['strategies'] = dt['strategies']"
   ]
  },
  {
   "cell_type": "markdown",
   "metadata": {},
   "source": [
    "# Anonymize & Store"
   ]
  },
  {
   "cell_type": "code",
   "execution_count": 5,
   "metadata": {},
   "outputs": [],
   "source": [
    "data = dataframe.drop(columns=['WorkerId', 'hitId', 'assignmentId','bonus', 'datastring'])\n",
    "data.apply(lambda x: (json.dumps(a) for a in x) if x.name in ['mouselabTrials'] else x).to_csv('../data/Exp'+exp_version+'/dataframe.csv', index=False)\n"
   ]
  },
  {
   "cell_type": "markdown",
   "metadata": {},
   "source": [
    "# BONUS"
   ]
  },
  {
   "cell_type": "code",
   "execution_count": null,
   "metadata": {},
   "outputs": [],
   "source": [
    "df_valid_all = dataframe[dataframe.status != 6]\n",
    "st.getDropoutStats(dataframe, df_valid_all, 'Dropouts')"
   ]
  },
  {
   "cell_type": "code",
   "execution_count": null,
   "metadata": {},
   "outputs": [],
   "source": [
    "print(np.mean(df_valid_all['bonus']))\n",
    "print(np.min(df_valid_all['bonus']))\n",
    "print(np.max(df_valid_all['bonus']))\n",
    "print(np.sum(df_valid_all['bonus']))\n",
    "plt.hist(df_valid_all.bonus);"
   ]
  },
  {
   "cell_type": "code",
   "execution_count": null,
   "metadata": {},
   "outputs": [],
   "source": [
    "reload(ecf)\n",
    "delta_bonus, wage_ph, new_wage_ph = ecf.getDeltaBonus(df_valid_all, 2, 0, 2)\n",
    "#df_valid_all['bonus'] = df_valid_all['bonus'] + delta_bonus\n",
    "plt.hist(new_wage_ph);"
   ]
  },
  {
   "cell_type": "code",
   "execution_count": null,
   "metadata": {},
   "outputs": [],
   "source": [
    "print(np.mean(df_valid_all['totalTime']))\n",
    "print(np.min(df_valid_all['totalTime']))\n",
    "print(np.max(df_valid_all['totalTime']))\n",
    "plt.hist(df_valid_all.totalTime);"
   ]
  },
  {
   "cell_type": "code",
   "execution_count": null,
   "metadata": {},
   "outputs": [],
   "source": []
  },
  {
   "cell_type": "code",
   "execution_count": null,
   "metadata": {},
   "outputs": [],
   "source": []
  },
  {
   "cell_type": "code",
   "execution_count": null,
   "metadata": {},
   "outputs": [],
   "source": [
    "reload(ecf)\n",
    "ecf.exportBonus(df_valid_all, exp_version= exp_version)"
   ]
  },
  {
   "cell_type": "code",
   "execution_count": null,
   "metadata": {},
   "outputs": [],
   "source": [
    "ecf.exportHit(dataframe, exp_version, 'Web of Cash', 'CR: Exp'+exp_version,\n",
    "              'April 12 2022', 'Reflection Study 2')\n"
   ]
  },
  {
   "cell_type": "code",
   "execution_count": null,
   "metadata": {},
   "outputs": [],
   "source": []
  }
 ],
 "metadata": {
  "kernelspec": {
   "display_name": "Python 3",
   "language": "python",
   "name": "python3"
  },
  "language_info": {
   "codemirror_mode": {
    "name": "ipython",
    "version": 3
   },
   "file_extension": ".py",
   "mimetype": "text/x-python",
   "name": "python",
   "nbconvert_exporter": "python",
   "pygments_lexer": "ipython3",
   "version": "3.8.5"
  }
 },
 "nbformat": 4,
 "nbformat_minor": 2
}
